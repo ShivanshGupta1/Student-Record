{
  "nbformat": 4,
  "nbformat_minor": 0,
  "metadata": {
    "colab": {
      "name": "Student Record (GitHub).ipynb",
      "provenance": [],
      "authorship_tag": "ABX9TyOmoHaqtMmwefbeJB72MrJJ",
      "include_colab_link": true
    },
    "kernelspec": {
      "name": "python3",
      "display_name": "Python 3"
    }
  },
  "cells": [
    {
      "cell_type": "markdown",
      "metadata": {
        "id": "view-in-github",
        "colab_type": "text"
      },
      "source": [
        "<a href=\"https://colab.research.google.com/github/ShivanshGupta1/Student-Record/blob/main/Student_Record_(GitHub).ipynb\" target=\"_parent\"><img src=\"https://colab.research.google.com/assets/colab-badge.svg\" alt=\"Open In Colab\"/></a>"
      ]
    },
    {
      "cell_type": "code",
      "metadata": {
        "id": "rJMS0wjZsYDQ"
      },
      "source": [
        "#Student Record Checker\n",
        "childNames = {\"Child1\":{\"Name\":\"Shivansh\", \"Age\":12,\"Roll No\":25}, #original dictionary\n",
        "              \"Child2\":{\"Name\":\"Vivaan\", \"Age\":13,\"Roll No\":27},\n",
        "              \"Child3\":{\"Name\":\"Sahib\", \"Age\":12,\"Roll No\":24}\n",
        "              }\n",
        "print(\"Welcome to the Student Record Checker!\") #intro and information about the program\n",
        "print(\"Enter 1 for updating, 2 for searching, 3 for deleting and negative number to end\")\n",
        "print(\"The original dictionary is this - \", childNames )\n",
        "\n",
        "def update(): #function to update the dictionary\n",
        "  childNo = 3  #variable to track the number of children\n",
        "  Name = input(\"What is the name of the child? \") \n",
        "  Maths = int(input(\"What did he/she score in Maths? \"))\n",
        "  Physics = int(input(\"What did he/she score in Physics? \"))\n",
        "  Chemistry = int(input(\"What did he/she score in Chemistry? \"))\n",
        "  childNo+=1\n",
        "  childNo = str(childNo)\n",
        "  childNames.update({\"Child\"+childNo:{\"Name\":Name,\"Maths\":Maths, \"Physics\":Physics, \"Chemistry\":Chemistry}})\n",
        "  print(\"The dictionary has been updated\")\n",
        "  print(\"The updated dictionary is \", childNames)\n",
        "def search(): #function to search in the dictionary\n",
        "  child = input(\"Which child do you want to search? \")\n",
        "  print(\"Is this what you were looking for - \", childNames[child])\n",
        "def delete(): #function to delete in the dictionary\n",
        "  child = input(\"Which child do you want to delete? \")\n",
        "  del childNames[child]\n",
        "  print(\"The updated dictionary is \", childNames)\n",
        "\n",
        "while(True): #this is where its asks the input (1,2,3) for the functions to perform and its runs forever, unless we put any negative number\n",
        "  option = input(\"What do you want to do? \")\n",
        "  if option==\"1\":\n",
        "    update();\n",
        "  elif option==\"2\":\n",
        "    search();\n",
        "  elif option==\"3\":\n",
        "    delete();\n",
        "  else:\n",
        "    break"
      ],
      "execution_count": null,
      "outputs": []
    }
  ]
}